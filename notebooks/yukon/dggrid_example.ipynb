{
 "cells": [
  {
   "attachments": {},
   "cell_type": "markdown",
   "id": "768807d8-ff92-4289-86eb-c9366edceafe",
   "metadata": {},
   "source": [
    "Welcome to the PyFlowline tutorial notebook!\n",
    "This is a tutorial pyflowline notebook.\n",
    "\n",
    "This tutorial serves as an example of the PyFlowline application using a dggrid mesh.\n",
    "\n",
    "For additional information on this application and the DGGRID mesh, please refer to the following publication:\n",
    "\n",
    "Liao, C., Engwirda, D., Cooper, M., Li, M., and Fang, Y.: Discrete Global Grid System-based Flow Routing Datasets in the Amazon and Yukon Basins, Earth Syst. Sci. Data Discuss. [preprint], https://doi.org/10.5194/essd-2023-398, in review, 2024.\n",
    "\n",
    "If you are running this notebook directly from the Binder platform, then all the dependencies are already installed. Otherwise, you must install the PyFlowline package and its dependencies. Additionally, visualization requires optional dependency packages (refer to the full documentation installation section).\n",
    "\n",
    "Feel free to modify the notebook to use a different visualization method as needed. Enjoy exploring PyFlowline!\n"
   ]
  },
  {
   "attachments": {},
   "cell_type": "markdown",
   "id": "e047a116",
   "metadata": {},
   "source": [
    "First, let's load some Python libraries."
   ]
  },
  {
   "cell_type": "code",
   "execution_count": null,
   "id": "d101804e",
   "metadata": {},
   "outputs": [],
   "source": [
    "import os\n",
    "import json\n",
    "import shutil\n",
    "from pathlib import Path\n",
    "from os.path import realpath\n",
    "import importlib.util\n",
    "from shutil import copy2\n",
    "from datetime import date\n",
    "import geopandas as gpd\n",
    "import matplotlib.pyplot as plt"
   ]
  },
  {
   "cell_type": "markdown",
   "id": "bf81807a",
   "metadata": {},
   "source": [
    "Check pyflowline installation."
   ]
  },
  {
   "cell_type": "code",
   "execution_count": null,
   "id": "a75e5100",
   "metadata": {},
   "outputs": [],
   "source": [
    "if importlib.util.find_spec(\"pyflowline\") is not None:\n",
    "    print('The pyflowline package is installed. ')\n",
    "else:\n",
    "    print('The pyflowline package is not installed. Please install it first.')\n",
    "    exit()"
   ]
  },
  {
   "cell_type": "markdown",
   "id": "77cba0cf",
   "metadata": {},
   "source": [
    "Add dggrid into the system path."
   ]
  },
  {
   "cell_type": "code",
   "execution_count": null,
   "id": "c52960d0",
   "metadata": {},
   "outputs": [],
   "source": [
    "os.environ[\"PATH\"] += os.pathsep + \"/home/jovyan/\""
   ]
  },
  {
   "cell_type": "markdown",
   "id": "25edfaeb",
   "metadata": {},
   "source": [
    "Now we can import a few python function within pyflowline."
   ]
  },
  {
   "cell_type": "code",
   "execution_count": null,
   "id": "9ad0e257",
   "metadata": {},
   "outputs": [],
   "source": [
    "#load the read configuration function\n",
    "from pyflowline.configuration.change_json_key_value import change_json_key_value\n",
    "from pyflowline.configuration.read_configuration_file import pyflowline_read_configuration_file"
   ]
  },
  {
   "attachments": {},
   "cell_type": "markdown",
   "id": "025169d4",
   "metadata": {},
   "source": [
    "Preperae the input/output data structure."
   ]
  },
  {
   "cell_type": "code",
   "execution_count": null,
   "id": "25e0e653",
   "metadata": {},
   "outputs": [],
   "source": [
    "sPath_notebook = Path().resolve()\n",
    "sPath_parent = str(Path().resolve().parents[1])\n",
    "print(sPath_parent)\n",
    "\n",
    "sWorkspace_data = os.path.join( sPath_parent, 'data', 'yukon' )\n",
    "if not os.path.exists(sWorkspace_data):\n",
    "    print(sWorkspace_data)\n",
    "    os.makedirs(sWorkspace_data)\n",
    "\n",
    "sWorkspace_input = os.path.join( sWorkspace_data, 'input')\n",
    "if not os.path.exists(sWorkspace_input):\n",
    "    print(sWorkspace_input)\n",
    "    os.makedirs(sWorkspace_input)\n",
    "\n",
    "sWorkspace_output = os.path.join( sWorkspace_data, 'output')\n",
    "if not os.path.exists(sWorkspace_output):\n",
    "    print(sWorkspace_output)\n",
    "    os.makedirs(sWorkspace_output)"
   ]
  },
  {
   "cell_type": "markdown",
   "id": "09b50234",
   "metadata": {},
   "source": [
    "Create a temp folder to download data."
   ]
  },
  {
   "cell_type": "code",
   "execution_count": null,
   "id": "33f69612",
   "metadata": {},
   "outputs": [],
   "source": [
    "sPath_temp = os.path.join( sPath_parent, 'data', 'tmp' )\n",
    "if not os.path.exists(sPath_temp):\n",
    "    print(sPath_temp)\n",
    "    os.makedirs(sPath_temp)\n",
    "else:\n",
    "    shutil.rmtree(sPath_temp)\n",
    "\n",
    "# Specify the repository's URL\n",
    "hexwatershed_data_repo = 'https://github.com/changliao1025/hexwatershed_data.git'\n",
    "\n",
    "# Clone the repository\n",
    "os.system(f'git clone {hexwatershed_data_repo} {sPath_temp}')\n",
    "sPath_temp_data = os.path.join(sPath_parent, 'data', 'tmp', 'data', 'yukon', 'input')\n",
    "\n",
    "# Check if the destination directory exists, if exists, remove it\n",
    "if os.path.exists(sWorkspace_input):\n",
    "    shutil.rmtree(sWorkspace_input)\n",
    "\n",
    "# Copy all the files under the temp data folder using shutil\n",
    "shutil.copytree(sPath_temp_data, sWorkspace_input)"
   ]
  },
  {
   "cell_type": "markdown",
   "id": "1a88215a",
   "metadata": {},
   "source": [
    "pyflowline uses a json file for configuration, an example json file is provided.\n",
    "check whether a configuration exists."
   ]
  },
  {
   "cell_type": "code",
   "execution_count": null,
   "id": "56edf54f",
   "metadata": {},
   "outputs": [],
   "source": [
    "sFilename_configuration_in = realpath(os.path.join(sWorkspace_input , 'pyhexwatershed_yukon_dggrid.json'))\n",
    "sFilename_basins_in = realpath( os.path.join( sWorkspace_input , 'pyflowline_yukon_basins.json') )\n",
    "if os.path.isfile(sFilename_configuration_in):\n",
    "    pass\n",
    "else:\n",
    "    print('The domain configuration file does not exist: ', sFilename_configuration_in)\n",
    "\n",
    "print('Finished the data preparation step.')"
   ]
  },
  {
   "cell_type": "markdown",
   "id": "05c3e903",
   "metadata": {},
   "source": [
    "Check the contents of the json configuration file."
   ]
  },
  {
   "cell_type": "code",
   "execution_count": null,
   "id": "394d0745",
   "metadata": {},
   "outputs": [],
   "source": [
    "with open(sFilename_configuration_in, 'r') as pJSON:\n",
    "    parsed = json.load(pJSON)\n",
    "    print(json.dumps(parsed, indent=4))"
   ]
  },
  {
   "cell_type": "markdown",
   "id": "85dc3a19",
   "metadata": {},
   "source": [
    "The meaning of these json keywords are explained in the [pyflowline documentation](https://pyflowline.readthedocs.io/en/latest/data/data.html#inputs)."
   ]
  },
  {
   "attachments": {},
   "cell_type": "markdown",
   "id": "33cce0f7",
   "metadata": {},
   "source": [
    "Now set up some keywords."
   ]
  },
  {
   "cell_type": "code",
   "execution_count": null,
   "id": "52820d49",
   "metadata": {},
   "outputs": [],
   "source": [
    "# Set some parameters.\n",
    "sRegion = 'yukon'\n",
    "sMesh_type = 'dggrid'\n",
    "sDggrid_type = 'ISEA3H'\n",
    "iCase_index = 1\n",
    "iResolution_index = 10 # dggrid resolution index\n",
    "\n",
    "# Get today's year, month and day.\n",
    "today = date.today()\n",
    "iYear = today.year\n",
    "iMonth = today.month\n",
    "iDay = today.day\n",
    "print(\"Today's date:\", iYear, iMonth, iDay)\n",
    "sDate = str(iYear) + str(iMonth).zfill(2) + str(iDay).zfill(2)"
   ]
  },
  {
   "cell_type": "code",
   "execution_count": null,
   "id": "69f442ec",
   "metadata": {},
   "outputs": [],
   "source": [
    "from pyflowline.mesh.dggrid.create_dggrid_mesh import dggrid_find_resolution_by_index\n",
    "dResolution = dggrid_find_resolution_by_index(sDggrid_type,\n",
    "                                              iResolution_index)\n",
    "print(dResolution)"
   ]
  },
  {
   "cell_type": "markdown",
   "id": "cc4e7ec0",
   "metadata": {},
   "source": [
    "The pyflowline python package uses the OOP approach to manage each simulation. A pyflowline object is created by reading the configuration file.\n",
    "\n",
    "The first argument to the `pyflowline_read_configuration_file` function is the configuration file filename, followed by name-value keywords that correspond to the parameters in the json configuration files."
   ]
  },
  {
   "cell_type": "code",
   "execution_count": null,
   "id": "2c96559f",
   "metadata": {},
   "outputs": [],
   "source": [
    "#instead of changing the main configuration file directly, we will make copies\n",
    "# Copy the configuration file to the output directory.\n",
    "sFilename_configuration_copy = os.path.join(\n",
    "    sWorkspace_output, 'pyflowline_configuration_copy.json')\n",
    "copy2(sFilename_configuration_in, sFilename_configuration_copy)\n",
    "\n",
    "# Also copy the basin configuration file to the output directory.\n",
    "sFilename_basins_configuration_copy = os.path.join(\n",
    "    sWorkspace_output, 'pyflowline_configuration_basins_copy.json')\n",
    "copy2(sFilename_basins_in, sFilename_basins_configuration_copy)"
   ]
  },
  {
   "cell_type": "markdown",
   "id": "1a6265f6",
   "metadata": {},
   "source": [
    "Update a few parameters in the configuration file before we can create the flowline object."
   ]
  },
  {
   "cell_type": "code",
   "execution_count": null,
   "id": "0ea6dd27",
   "metadata": {},
   "outputs": [],
   "source": [
    "# The json file will be overwritten, you may want to make a copy of it first.\n",
    "sFilename_configuration = sFilename_configuration_copy\n",
    "sFilename_basins = sFilename_basins_configuration_copy\n",
    "# Output folder\n",
    "change_json_key_value(sFilename_configuration,\n",
    "                                 'sWorkspace_output', sWorkspace_output)\n",
    "\n",
    "# Individual basin configuration file\n",
    "change_json_key_value(sFilename_configuration,\n",
    "                                 'sFilename_basins', sFilename_basins)\n",
    "\n",
    "# Boundary to clip mesh\n",
    "sFilename_mesh_boundary = realpath(os.path.join(\n",
    "    sWorkspace_input, 'boundary.geojson'))\n",
    "change_json_key_value(sFilename_configuration,\n",
    "                                 'sFilename_mesh_boundary', sFilename_mesh_boundary)"
   ]
  },
  {
   "attachments": {},
   "cell_type": "markdown",
   "id": "98968ee9",
   "metadata": {},
   "source": [
    "We can now call the function to create an object."
   ]
  },
  {
   "cell_type": "code",
   "execution_count": null,
   "id": "2a221825",
   "metadata": {},
   "outputs": [],
   "source": [
    "#the read function accepts several keyword arguments that can be used to change the default parameters.\n",
    "oPyflowline = pyflowline_read_configuration_file(sFilename_configuration,\n",
    "                                                 iCase_index_in=iCase_index,\n",
    "                                                 sMesh_type_in=sMesh_type,\n",
    "                                                 iResolution_index_in=iResolution_index,\n",
    "                                                 sDate_in=sDate)"
   ]
  },
  {
   "attachments": {},
   "cell_type": "markdown",
   "id": "439971cd",
   "metadata": {},
   "source": [
    "You can review the setting again."
   ]
  },
  {
   "cell_type": "code",
   "execution_count": null,
   "id": "4e96d31d",
   "metadata": {},
   "outputs": [],
   "source": [
    "print(oPyflowline.tojson())"
   ]
  },
  {
   "attachments": {},
   "cell_type": "markdown",
   "id": "e1239843",
   "metadata": {},
   "source": [
    "If you are not certain of the outlet location, you can also set them up using:"
   ]
  },
  {
   "cell_type": "code",
   "execution_count": null,
   "id": "8c4e6526",
   "metadata": {},
   "outputs": [],
   "source": [
    "# Another important setting for basin is the approximate outlet location\n",
    "# You can set it using the change_model_parameter function.\n",
    "dLongitude_outlet_degree = -164.47594\n",
    "dLatitude_outlet_degree = 63.04269\n",
    "oPyflowline.aBasin[0].dThreshold_small_river = dResolution * 5\n",
    "\n",
    "oPyflowline.pyflowline_change_model_parameter('dLongitude_outlet_degree',\n",
    "                                              dLongitude_outlet_degree,\n",
    "                                              iFlag_basin_in=1)\n",
    "\n",
    "oPyflowline.pyflowline_change_model_parameter('dLatitude_outlet_degree',\n",
    "                                              dLatitude_outlet_degree,\n",
    "                                              iFlag_basin_in=1)\n",
    "sFilename_flowline = realpath(os.path.join(sWorkspace_input, 'dggrid10/river_networks.geojson') )\n",
    "oPyflowline.pyflowline_change_model_parameter('sFilename_flowline_filter', sFilename_flowline, iFlag_basin_in= 1)\n",
    "oPyflowline.pyflowline_change_model_parameter('iFlag_debug', 0, iFlag_basin_in= 1)\n"
   ]
  },
  {
   "cell_type": "markdown",
   "id": "61f5b8ed",
   "metadata": {},
   "source": [
    "You can check the setting for the single basin as well"
   ]
  },
  {
   "cell_type": "code",
   "execution_count": null,
   "id": "edd17e3e",
   "metadata": {},
   "outputs": [],
   "source": [
    "print(oPyflowline.aBasin[0].tojson())"
   ]
  },
  {
   "attachments": {},
   "cell_type": "markdown",
   "id": "c432a723",
   "metadata": {},
   "source": [
    "After the case object was created, we can set up the model."
   ]
  },
  {
   "cell_type": "code",
   "execution_count": null,
   "id": "8d74fbfc",
   "metadata": {},
   "outputs": [],
   "source": [
    "#setup the model\n",
    "oPyflowline.iFlag_user_provided_binary = 0\n",
    "oPyflowline.pyflowline_setup()"
   ]
  },
  {
   "attachments": {},
   "cell_type": "markdown",
   "id": "39507b33",
   "metadata": {},
   "source": [
    "Before any operation, we can visualize the original or raw flowline dataset. "
   ]
  },
  {
   "cell_type": "code",
   "execution_count": null,
   "id": "05c38d7f",
   "metadata": {},
   "outputs": [],
   "source": [
    "sFilename_geojson = oPyflowline.aBasin[0].sFilename_flowline_filter_geojson\n",
    "gdf = gpd.read_file(sFilename_geojson)\n",
    "gdf.plot()\n",
    "plt.show()"
   ]
  },
  {
   "attachments": {},
   "cell_type": "markdown",
   "id": "8d3b8d00",
   "metadata": {},
   "source": [
    "You can also use QGIS."
   ]
  },
  {
   "attachments": {},
   "cell_type": "markdown",
   "id": "09017d73",
   "metadata": {},
   "source": [
    "The plot function provides a few optional arguments such as map projection and spatial extent. \n",
    "By default, the spatial extent is full. \n",
    "But you can set the extent to a zoom-in region."
   ]
  },
  {
   "attachments": {},
   "cell_type": "markdown",
   "id": "e735b614",
   "metadata": {},
   "source": [
    "Now let's run the three major steps/operations in the pyflowline algorithm one by one."
   ]
  },
  {
   "cell_type": "code",
   "execution_count": null,
   "id": "689984cb",
   "metadata": {},
   "outputs": [],
   "source": [
    "# Run step 1: flowline simplification.\n",
    "oPyflowline.pyflowline_flowline_simplification();"
   ]
  },
  {
   "attachments": {},
   "cell_type": "markdown",
   "id": "7c786cb7",
   "metadata": {},
   "source": [
    "Check the result using a plot."
   ]
  },
  {
   "cell_type": "code",
   "execution_count": null,
   "id": "d77190a1",
   "metadata": {},
   "outputs": [],
   "source": [
    "sFilename_geojson = oPyflowline.aBasin[0].sFilename_flowline_simplified\n",
    "gdf = gpd.read_file(sFilename_geojson)\n",
    "gdf.plot()\n",
    "plt.show()"
   ]
  },
  {
   "attachments": {},
   "cell_type": "markdown",
   "id": "fedd7947",
   "metadata": {},
   "source": [
    "Similarly, we can zoom in using the extent."
   ]
  },
  {
   "attachments": {},
   "cell_type": "markdown",
   "id": "e72a9453",
   "metadata": {},
   "source": [
    "Next, we will creata a mesh from the global MPAS mesh."
   ]
  },
  {
   "cell_type": "code",
   "execution_count": null,
   "id": "e898bc82",
   "metadata": {},
   "outputs": [],
   "source": [
    "# Run step 2: create a mesh.\n",
    "# We can either use a rectangle boundary\n",
    "oPyflowline.iFlag_mesh_boundary = 1\n",
    "aCell = oPyflowline.pyflowline_mesh_generation()"
   ]
  },
  {
   "cell_type": "code",
   "execution_count": null,
   "id": "20d90d3b",
   "metadata": {},
   "outputs": [],
   "source": [
    "# Visualize the mesh\n",
    "sFilename_geojson = oPyflowline.sFilename_mesh\n",
    "gdf = gpd.read_file(sFilename_geojson)\n",
    "gdf.plot()\n",
    "plt.show()"
   ]
  },
  {
   "attachments": {},
   "cell_type": "markdown",
   "id": "29e58f9b",
   "metadata": {},
   "source": [
    "we can also use a polygon to create a mesh"
   ]
  },
  {
   "attachments": {},
   "cell_type": "markdown",
   "id": "9d8c3d26",
   "metadata": {},
   "source": [
    "Last, we can generate the conceptual flowline. We refer to the final flowline as \"conceptual\" because it has been modified relative to the original, input flowline, which often represents a \"real\" flowline. The conceptual flowline has been simplified (e.g., small reaches, loops, and braided channels removed) and adjusted to align with the mesh. These modifications ensure the final flowline is suitable for hydrological modeling, while remaining consistent with the real flowline."
   ]
  },
  {
   "cell_type": "code",
   "execution_count": null,
   "id": "5f7c76d8",
   "metadata": {},
   "outputs": [],
   "source": [
    "# Run Step 3: create the \"conceptual\" (topological) flowline.\n",
    "oPyflowline.pyflowline_reconstruct_topological_relationship();"
   ]
  },
  {
   "attachments": {},
   "cell_type": "markdown",
   "id": "73df1fb2",
   "metadata": {},
   "source": [
    "Now we can overlap mesh with flowline."
   ]
  },
  {
   "cell_type": "code",
   "execution_count": null,
   "id": "61d6df7b",
   "metadata": {},
   "outputs": [],
   "source": [
    "# Plot both the mesh and the flowline\n",
    "sFilename_mesh = oPyflowline.sFilename_mesh\n",
    "sFilename_conceptual_flowline = oPyflowline.aBasin[0].sFilename_flowline_conceptual\n",
    "gdf1 = gpd.read_file(sFilename_mesh)\n",
    "gdf2 = gpd.read_file(sFilename_conceptual_flowline)\n",
    "fig, ax = plt.subplots()\n",
    "gdf1.plot(ax=ax, color='blue')\n",
    "gdf2.plot(ax=ax, color='red')\n",
    "plt.show()"
   ]
  },
  {
   "attachments": {},
   "cell_type": "markdown",
   "id": "33ce7f70",
   "metadata": {},
   "source": [
    "After this, we can save the model output into a json file."
   ]
  },
  {
   "cell_type": "code",
   "execution_count": null,
   "id": "e8efab4e",
   "metadata": {},
   "outputs": [],
   "source": [
    "# Export output\n",
    "oPyflowline.pyflowline_export();"
   ]
  },
  {
   "attachments": {},
   "cell_type": "markdown",
   "id": "5c8c3f75",
   "metadata": {},
   "source": [
    "The content of the one of the exported json files can be checked:"
   ]
  },
  {
   "cell_type": "code",
   "execution_count": null,
   "id": "eb34bcee",
   "metadata": {},
   "outputs": [],
   "source": [
    "with open(oPyflowline.sFilename_mesh_info, 'r') as pJSON:\n",
    "    parsed = json.load(pJSON)\n",
    "    print(json.dumps(parsed[0], indent=4))"
   ]
  },
  {
   "attachments": {},
   "cell_type": "markdown",
   "id": "e2f1bea7",
   "metadata": {},
   "source": [
    "Congratulations! You have successfully finished a pyflowline simulation."
   ]
  }
 ],
 "metadata": {
  "kernelspec": {
   "display_name": "hexwatershed",
   "language": "python",
   "name": "python3"
  },
  "language_info": {
   "codemirror_mode": {
    "name": "ipython",
    "version": 3
   },
   "file_extension": ".py",
   "mimetype": "text/x-python",
   "name": "python",
   "nbconvert_exporter": "python",
   "pygments_lexer": "ipython3",
   "version": "3.9.19"
  },
  "vscode": {
   "interpreter": {
    "hash": "79a4c0f6fdb3719d3372bd1edc1cf6b68731a08c9eb5f46b972d9360271030c3"
   }
  }
 },
 "nbformat": 4,
 "nbformat_minor": 5
}
