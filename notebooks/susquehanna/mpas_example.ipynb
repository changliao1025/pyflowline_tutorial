{
 "cells": [
  {
   "attachments": {},
   "cell_type": "markdown",
   "id": "768807d8-ff92-4289-86eb-c9366edceafe",
   "metadata": {},
   "source": [
    "This is a tutorial pyflowline notebook.\n",
    "This tutorial is an example of the pyflowline application using a Model for Prediction Across Scales (MPAS) mesh.\n",
    "\n",
    "The following publication includes a comprehensive application:\n",
    "Liao, C., Zhou, T., Xu, D., Cooper, M. G., Engwirda, D., Li, H.-Y., & Leung, L. R. (2023). Topological relationship-based flow direction modeling: Mesh-independent river networks representation. Journal of Advances in Modeling Earth Systems, 15, e2022MS003089. https://doi.org/10.1029/2022MS003089\n",
    "\n",
    "The full documentation is hosted at: https://pyflowline.readthedocs.io\n",
    "\n",
    "In order the run this notebook, you must install the PyFlowline package and its dependencies. \n",
    "Besides, the visulization requires the optional dependency packages (see the full documentation installation section).\n",
    "You can also modify the notebook to use a different visualization method.\n"
   ]
  },
  {
   "attachments": {},
   "cell_type": "markdown",
   "id": "e047a116",
   "metadata": {},
   "source": [
    "First, let's import some Python libraries."
   ]
  },
  {
   "cell_type": "code",
   "execution_count": null,
   "id": "90ee3b22",
   "metadata": {},
   "outputs": [],
   "source": [
    "import os\n",
    "import json\n",
    "from pathlib import Path\n",
    "from os.path import realpath\n",
    "from datetime import datetime\n",
    "import importlib.util"
   ]
  },
  {
   "cell_type": "markdown",
   "id": "766454e2",
   "metadata": {},
   "source": [
    "Next, we'll ensure the dependencies are satisfied before proceeding."
   ]
  },
  {
   "cell_type": "code",
   "execution_count": null,
   "id": "22fef286",
   "metadata": {},
   "outputs": [],
   "source": [
    "required_packages = {\n",
    "    \"gdal\": \"osgeo\",\n",
    "    \"numpy\": \"numpy\",\n",
    "    \"netCDF4\": \"netCDF4\",\n",
    "    \"pyearth\": \"pyearth\",\n",
    "    \"pyflowline\": \"pyflowline\",\n",
    "    \"geopandas\": \"geopandas\",\n",
    "    \"matplotlib\": \"matplotlib\",\n",
    "    \"requests\": \"requests\",  # This one is only for downloading the data\n",
    "}\n",
    "missing_packages = [pkg for pkg, mod in required_packages.items() if not importlib.util.find_spec(mod)]\n",
    "\n",
    "if missing_packages:\n",
    "    print(\"The following packages are not installed:\", \", \".join(missing_packages))\n",
    "    print(\"If any dependency is missing, please install it using conda.\")\n",
    "else:\n",
    "    print(\"Congrats, all dependencies are installed.\")"
   ]
  },
  {
   "cell_type": "markdown",
   "id": "d7c27c07",
   "metadata": {},
   "source": [
    "The first step to running a pyflowline simulation is to configure the simulation. \n",
    "\n",
    "Configuration is separated into two levels: a \"parent\" configuration file which defines the domain, and a \"child\" configuration file which defines individual basins within the domain. The latter is referred to as the basin configuration file.\n",
    "\n",
    "![pyflowline model structure](../../docs/figures/structure_pyflowline.png)\n",
    "\n",
    "The pyflowline package uses json configuration files. Template configuration files are provided in the `data/` folder of this repo.\n",
    "\n",
    "To configure a new case, pyflowline provides functions to read the configuration files, and programatically change the configuration parameters (json key values).\n",
    "\n",
    "Import the pyflowline package functions we will use in this tutorial. "
   ]
  },
  {
   "cell_type": "code",
   "execution_count": null,
   "id": "3b82c2d5",
   "metadata": {},
   "outputs": [],
   "source": [
    "from pyflowline.configuration.read_configuration_file import pyflowline_read_configuration_file\n",
    "from pyflowline.configuration.change_json_key_value import change_json_key_value"
   ]
  },
  {
   "cell_type": "markdown",
   "id": "c44d4832",
   "metadata": {},
   "source": [
    "To define a new PyFlowline case, set the domain name and the path parameters."
   ]
  },
  {
   "cell_type": "code",
   "execution_count": null,
   "id": "e7bcf365",
   "metadata": {},
   "outputs": [],
   "source": [
    "# Set the domain name and the \"parent\" configuration file name.\n",
    "sRegion = \"susquehanna\"\n",
    "sFilename_domain_config_in = 'pyflowline_susquehanna_mpas.json'\n",
    "sFilename_basins_config_in = 'pyflowline_susquehanna_basins.json'\n",
    "\n",
    "# Set paths to where the input data exists, and where the outputs are written.\n",
    "sPath_project = str(Path().resolve().parents[1]) \n",
    "sPath_input = os.path.join(sPath_project, 'data', sRegion, 'input')\n",
    "sPath_output = os.path.join(sPath_project, 'data', sRegion, 'output')\n",
    "\n",
    "# Set the full path to the domain (parent) basins (child) configuration files.\n",
    "sFilename_domain_config_in = realpath(os.path.join(sPath_input, sFilename_domain_config_in))\n",
    "sFilename_basins_config_in = realpath(os.path.join(sPath_input, sFilename_basins_config_in))\n",
    "\n",
    "# Print paths to the screen to confirm they are correct.\n",
    "print(\"sPath_project: \" + sPath_project)\n",
    "print(\"sPath_input: \" + sPath_input)\n",
    "print(\"sPath_output: \" + sPath_output)\n",
    "print(\"sFilename_domain_config_in: \" + sFilename_domain_config_in)\n",
    "print(\"sFilename_basins_config_in: \" + sFilename_basins_config_in)"
   ]
  },
  {
   "cell_type": "markdown",
   "id": "239de44e",
   "metadata": {},
   "source": [
    "For this notebook, we will download an unstructured mesh file from GitHub, created with the Model for Prediction Across Scales. \n",
    "\n",
    "Set the remote filename and the local filename where the MPAS mesh will be saved."
   ]
  },
  {
   "cell_type": "code",
   "execution_count": null,
   "id": "e015b427",
   "metadata": {},
   "outputs": [],
   "source": [
    "sFilename_mpas_remote = 'https://github.com/changliao1025/pyflowline/releases/download/0.2.0/lnd_cull_mesh.nc'\n",
    "sFilename_mpas_local = realpath(os.path.join(sPath_input, 'mpas_mesh.nc'))"
   ]
  },
  {
   "cell_type": "markdown",
   "id": "9f2f1520",
   "metadata": {},
   "source": [
    "Download the MPAS mesh NetCDF file stored in the following Github release:\n",
    "https://github.com/changliao1025/pyflowline/releases/tag/0.2.0\n",
    "https://github.com/changliao1025/pyflowline/releases/download/0.2.0/lnd_cull_mesh.nc"
   ]
  },
  {
   "cell_type": "code",
   "execution_count": null,
   "id": "c52960d0",
   "metadata": {},
   "outputs": [],
   "source": [
    "import requests\n",
    "\n",
    "# Create the data/<domain>/input directory if it does not exist\n",
    "os.makedirs(sPath_input, exist_ok=True)\n",
    "\n",
    "# Check whether the file exists\n",
    "if os.path.exists(sFilename_mpas_local):\n",
    "    print(\"File exists. Skipping download.\\n\" + sFilename_mpas_local)\n",
    "else:\n",
    "    print(\"Downloading to:\\n\" + sFilename_mpas_local)\n",
    "    # Send an HTTP GET request to the URL\n",
    "    response = requests.get(sFilename_mpas_remote)\n",
    "\n",
    "    # Check if the request was successful\n",
    "    if response.status_code == 200:\n",
    "        # Save the content of the response to the local file\n",
    "        with open(sFilename_mpas_local, 'wb') as file:\n",
    "            file.write(response.content)\n",
    "        print(f\"File downloaded successfully.\")\n",
    "    else:\n",
    "        print(f\"Failed to download file from:\\n'{sFilename_mpas_remote}'\")"
   ]
  },
  {
   "attachments": {},
   "cell_type": "markdown",
   "id": "025169d4",
   "metadata": {},
   "source": [
    "pyflowline uses a json file for configuration, an example json file is provided.\n",
    "\n",
    "Check the contents of the json configuration file."
   ]
  },
  {
   "cell_type": "code",
   "execution_count": null,
   "id": "394d0745",
   "metadata": {},
   "outputs": [],
   "source": [
    "with open(sFilename_domain_config_in, 'r') as pJSON:\n",
    "    parsed = json.load(pJSON)\n",
    "    print(json.dumps(parsed, indent=4))"
   ]
  },
  {
   "attachments": {},
   "cell_type": "markdown",
   "id": "85dc3a19",
   "metadata": {},
   "source": [
    "The meaning of these json keywords are explained in the [pyflowline documentation](https://pyflowline.readthedocs.io/en/latest/data/data.html#inputs).\n",
    "\n",
    "For some parameters, we can change them using a function call, demonstrated below. For some other parameters (e.g., file paths), you need to modify the json file using a text editor. If the function returns an error, you should update the json file(s). "
   ]
  },
  {
   "attachments": {},
   "cell_type": "markdown",
   "id": "33cce0f7",
   "metadata": {},
   "source": [
    "Now set up some keywords which define the parameters for this case."
   ]
  },
  {
   "cell_type": "code",
   "execution_count": null,
   "id": "52820d49",
   "metadata": {},
   "outputs": [],
   "source": [
    "#set up some parameters\n",
    "sMesh_type = 'mpas'\n",
    "iCase_index = 1\n",
    "dResolution_meter = 5000 # mesh resolution\n",
    "sDate = datetime.now().strftime('%Y%m%d')"
   ]
  },
  {
   "cell_type": "markdown",
   "id": "04027dd6",
   "metadata": {},
   "source": [
    "We need to update a few parameters in the configuration file before we can create the flowline object.\n",
    "\n",
    "The json file will be overwritten, you may want to make a copy of it first."
   ]
  },
  {
   "cell_type": "code",
   "execution_count": null,
   "id": "69f442ec",
   "metadata": {},
   "outputs": [],
   "source": [
    "# The boundary to clip the mesh\n",
    "sFilename_mesh_boundary = realpath(os.path.join(\n",
    "    sPath_input, 'boundary_wgs.geojson'))\n",
    "\n",
    "# Set the path to the mpas file we just downloaded\n",
    "change_json_key_value(sFilename_domain_config_in, 'sFilename_mesh_netcdf', sFilename_mpas_local) \n",
    "\n",
    "# Set the path to the boundary file used to clip the mesh\n",
    "change_json_key_value(sFilename_domain_config_in,  'sFilename_mesh_boundary', sFilename_mesh_boundary) \n",
    "\n",
    "# Set the path to the individual-basin (\"child\") configuration file\n",
    "change_json_key_value(sFilename_domain_config_in, 'sFilename_basins', sFilename_basins_config_in) \n",
    "\n",
    "# Set the path to the output folder\n",
    "change_json_key_value(sFilename_domain_config_in, 'sWorkspace_output', sPath_output)\n",
    "\n",
    "# Now change basin configuration file\n",
    "sFilename_flowline = realpath(os.path.join(sPath_input, 'flowline.geojson') )\n",
    "\n",
    "# Set the path to the user-provided flowline. Note that when changing the basin (\"child\") configuration file, set iFlag_basin_in=1.\n",
    "change_json_key_value(sFilename_basins_config_in,  'sFilename_flowline_filter', sFilename_flowline, iFlag_basin_in=1)"
   ]
  },
  {
   "attachments": {},
   "cell_type": "markdown",
   "id": "98968ee9",
   "metadata": {},
   "source": [
    "The pyflowline package uses the OOP approach to manage each simulation. A pyflowline object is created by reading the configuration file.\n",
    "\n",
    "The first argument to the `pyflowline_read_configuration_file` function is the configuration file filename, followed by name-value keywords that correspond to parameters in the json configuration files.\n",
    "\n",
    "Some useful keyword arguments are:\n",
    "- `iCase_index_in`: this is an arbitrary ID to identify the simulation case.\n",
    "- `sMesh_type_in`: this specifies the mesh type ('mpas' in this example).\n",
    "- `sDate_in`: this specifies the date of the simulation, the final output folder will have a pattern such as 'pyflowline20230901001', where pyflowline is model, 20230901 is the date, and 001 is the case index.\n",
    "\n",
    "Call the function to create a pyflowline object."
   ]
  },
  {
   "cell_type": "code",
   "execution_count": null,
   "id": "2a221825",
   "metadata": {},
   "outputs": [],
   "source": [
    "oPyflowline = pyflowline_read_configuration_file(sFilename_domain_config_in, iCase_index_in=iCase_index, sMesh_type_in=sMesh_type, sDate_in=sDate)"
   ]
  },
  {
   "cell_type": "markdown",
   "id": "7e105e59",
   "metadata": {},
   "source": [
    "In addition to the `pyflowline_read_configuration_file` function, users can change model parameters after creating the model object.\n",
    "\n",
    "In this example, we will change the mesh file name."
   ]
  },
  {
   "cell_type": "code",
   "execution_count": null,
   "id": "17e011b8",
   "metadata": {},
   "outputs": [],
   "source": [
    "oPyflowline.pyflowline_change_model_parameter('sFilename_mesh_netcdf', sFilename_mpas_local)"
   ]
  },
  {
   "cell_type": "markdown",
   "id": "c4995b08",
   "metadata": {},
   "source": [
    "In general, a digital elevation model (DEM) is not required by `pyflowline`, but is required by `hexwatershed`. If the model configuration file includes the parameter `sFilename_dem`, `pyflowline` will use the DEM file to define the boundary and spatial reference of the domain. In this case, a domain boundary file is not required.\n",
    "\n",
    "Alternatively, the user can supply a domain boundary file by setting the `sFilename_mesh_boundary` parameter. This file becomes required if `sFilename_dem` is not provided. \n",
    "\n",
    "The MPAS mesh is unique in that it contains elevation data associated with each mesh cell, therefore we don't have a separate DEM file, and instead we need to supply a domain boundary and set the `sFilename_mesh_boundary` parameter."
   ]
  },
  {
   "cell_type": "code",
   "execution_count": null,
   "id": "67789c4e",
   "metadata": {},
   "outputs": [],
   "source": [
    "oPyflowline.pyflowline_change_model_parameter('sFilename_mesh_boundary', sFilename_mesh_boundary)"
   ]
  },
  {
   "cell_type": "markdown",
   "id": "8056fb4f",
   "metadata": {},
   "source": [
    "We can also set parameters for individual basins in the domain. In this example, we only have one basin.\n",
    "\n",
    "Although each basin can have different parameters, `pyflowline_change_model_parameter` does not currently support changing parameters for individual basins (it sets the same parameter value for all of the basins). If you want to set different parameter values for individual basins (for example, basin 1 has no dam, but basin 2 has a dam), you should edit the basin configuration json file directly. \n",
    "\n",
    "When setting a basin configuration file parameter, we must set the final argument `iFlag_basin_in=1`."
   ]
  },
  {
   "cell_type": "code",
   "execution_count": null,
   "id": "fac51594",
   "metadata": {},
   "outputs": [],
   "source": [
    "oPyflowline.pyflowline_change_model_parameter('iFlag_dam', 0, iFlag_basin_in=1)"
   ]
  },
  {
   "attachments": {},
   "cell_type": "markdown",
   "id": "439971cd",
   "metadata": {},
   "source": [
    "You can review the setting again."
   ]
  },
  {
   "cell_type": "code",
   "execution_count": null,
   "id": "4e96d31d",
   "metadata": {},
   "outputs": [],
   "source": [
    "print(oPyflowline.tojson())"
   ]
  },
  {
   "attachments": {},
   "cell_type": "markdown",
   "id": "e1239843",
   "metadata": {},
   "source": [
    "Another important (and required) parameter is the approximate outlet location, which `pyflowline` uses as a starting point for its upstream walk. In a typical workflow, we suggest you plot your flowline in software such as QGIS, visually identify the coordinates, and either type them directly into the model configuration json file, or update them programmatically as shown below.\n",
    "\n",
    "Set the approximate outlet location coordinates using the `pyflowline_change_model_parameter` function."
   ]
  },
  {
   "cell_type": "code",
   "execution_count": null,
   "id": "8c4e6526",
   "metadata": {},
   "outputs": [],
   "source": [
    "oPyflowline.pyflowline_change_model_parameter(\n",
    "    'dLongitude_outlet_degree', -76.0093, \n",
    "    iFlag_basin_in = 1)\n",
    "oPyflowline.pyflowline_change_model_parameter(\n",
    "    'dLatitude_outlet_degree', 39.4620, \n",
    "    iFlag_basin_in = 1)"
   ]
  },
  {
   "cell_type": "markdown",
   "id": "61f5b8ed",
   "metadata": {},
   "source": [
    "You can check the settings for individual basins as well. Here there is a single basin:"
   ]
  },
  {
   "cell_type": "code",
   "execution_count": null,
   "id": "edd17e3e",
   "metadata": {},
   "outputs": [],
   "source": [
    "print(oPyflowline.aBasin[0].tojson())"
   ]
  },
  {
   "attachments": {},
   "cell_type": "markdown",
   "id": "c432a723",
   "metadata": {},
   "source": [
    "After the case object was created, we can set up the model."
   ]
  },
  {
   "cell_type": "code",
   "execution_count": null,
   "id": "8d74fbfc",
   "metadata": {},
   "outputs": [],
   "source": [
    "oPyflowline.pyflowline_setup()"
   ]
  },
  {
   "attachments": {},
   "cell_type": "markdown",
   "id": "39507b33",
   "metadata": {},
   "source": [
    "Before any operation, we can visualize the original or raw flowline dataset. "
   ]
  },
  {
   "cell_type": "code",
   "execution_count": null,
   "id": "05c38d7f",
   "metadata": {},
   "outputs": [],
   "source": [
    "if \"geopandas\" in missing_packages:\n",
    "    print(\"Geopandas is not installed.\")\n",
    "else:\n",
    "    import geopandas as gpd\n",
    "    import matplotlib.pyplot as plt\n",
    "    # Use the geopandas package\n",
    "    # The raw/original geojson file \n",
    "    sFilename_geojson = oPyflowline.aBasin[0].sFilename_flowline_filter_geojson\n",
    "    gdf = gpd.read_file(sFilename_geojson)\n",
    "    gdf.plot()\n",
    "    plt.show()"
   ]
  },
  {
   "attachments": {},
   "cell_type": "markdown",
   "id": "8d3b8d00",
   "metadata": {},
   "source": [
    "You can also use QGIS."
   ]
  },
  {
   "attachments": {},
   "cell_type": "markdown",
   "id": "09017d73",
   "metadata": {},
   "source": [
    "The plot function provides a few optional arguments such as map projection and spatial extent. \n",
    "By default, the spatial extent is full. \n",
    "But you can set the extent to a zoom-in region."
   ]
  },
  {
   "attachments": {},
   "cell_type": "markdown",
   "id": "e735b614",
   "metadata": {},
   "source": [
    "Now let's run the three major steps/operations in the pyflowline algorithm one by one."
   ]
  },
  {
   "cell_type": "code",
   "execution_count": null,
   "id": "689984cb",
   "metadata": {},
   "outputs": [],
   "source": [
    "# Run step 1: flowline simplification.\n",
    "oPyflowline.pyflowline_flowline_simplification();"
   ]
  },
  {
   "attachments": {},
   "cell_type": "markdown",
   "id": "7c786cb7",
   "metadata": {},
   "source": [
    "Check the result using a plot."
   ]
  },
  {
   "cell_type": "code",
   "execution_count": null,
   "id": "d77190a1",
   "metadata": {},
   "outputs": [],
   "source": [
    "sFilename_geojson = oPyflowline.aBasin[0].sFilename_flowline_simplified\n",
    "gdf = gpd.read_file(sFilename_geojson)\n",
    "gdf.plot()\n",
    "plt.show()\n",
    "pass"
   ]
  },
  {
   "attachments": {},
   "cell_type": "markdown",
   "id": "fedd7947",
   "metadata": {},
   "source": [
    "We can zoom in using the extent."
   ]
  },
  {
   "attachments": {},
   "cell_type": "markdown",
   "id": "e72a9453",
   "metadata": {},
   "source": [
    "Next, create a mesh for the domain from the global MPAS mesh."
   ]
  },
  {
   "cell_type": "code",
   "execution_count": null,
   "id": "e898bc82",
   "metadata": {},
   "outputs": [],
   "source": [
    "# Run step 2: create a mesh.\n",
    "oPyflowline.iFlag_mesh_boundary = 0 #set to 0 to disable polygon-based\n",
    "oPyflowline.dLongitude_left= -79\n",
    "oPyflowline.dLongitude_right= -74.5\n",
    "oPyflowline.dLatitude_bot= 39.20\n",
    "oPyflowline.dLatitude_top= 42.8\n",
    "\n",
    "aCell = oPyflowline.pyflowline_mesh_generation()"
   ]
  },
  {
   "cell_type": "markdown",
   "id": "29622ef2",
   "metadata": {},
   "source": [
    "Visualize the mesh."
   ]
  },
  {
   "cell_type": "code",
   "execution_count": null,
   "id": "20d90d3b",
   "metadata": {},
   "outputs": [],
   "source": [
    "sFilename_geojson = oPyflowline.sFilename_mesh\n",
    "gdf = gpd.read_file(sFilename_geojson)\n",
    "gdf.plot()\n",
    "plt.show()\n",
    "pass"
   ]
  },
  {
   "attachments": {},
   "cell_type": "markdown",
   "id": "29e58f9b",
   "metadata": {},
   "source": [
    "We can also use a polygon to create a mesh."
   ]
  },
  {
   "cell_type": "code",
   "execution_count": null,
   "id": "98818161",
   "metadata": {},
   "outputs": [],
   "source": [
    "oPyflowline.iFlag_mesh_boundary = 1 #set to 1 to enable polygon-based\n",
    "aCell = oPyflowline.pyflowline_mesh_generation()"
   ]
  },
  {
   "cell_type": "code",
   "execution_count": null,
   "id": "10b02b9c",
   "metadata": {},
   "outputs": [],
   "source": [
    "sFilename_geojson = oPyflowline.sFilename_mesh\n",
    "gdf = gpd.read_file(sFilename_geojson)\n",
    "gdf.plot()\n",
    "plt.show()"
   ]
  },
  {
   "attachments": {},
   "cell_type": "markdown",
   "id": "9d8c3d26",
   "metadata": {},
   "source": [
    "Last, we can generate the conceptual flowline. We refer to the final flowline as \"conceptual\" because it has been modified relative to the original, input flowline, which often represents a \"real\" flowline. The conceptual flowline has been simplified (e.g., small reaches, loops, and braided channels removed) and adjusted to align with the mesh. These modifications ensure the final flowline is suitable for hydrological modeling, while remaining consistent with the real flowline."
   ]
  },
  {
   "cell_type": "code",
   "execution_count": null,
   "id": "5f7c76d8",
   "metadata": {},
   "outputs": [],
   "source": [
    "# Step 3: create the \"conceptual\" (topological) flowline.\n",
    "oPyflowline.pyflowline_reconstruct_topological_relationship();"
   ]
  },
  {
   "attachments": {},
   "cell_type": "markdown",
   "id": "73df1fb2",
   "metadata": {},
   "source": [
    "Now we can overlap mesh with flowline."
   ]
  },
  {
   "cell_type": "code",
   "execution_count": null,
   "id": "61d6df7b",
   "metadata": {},
   "outputs": [],
   "source": [
    "# Plot both the mesh and the flowline\n",
    "file1_path = oPyflowline.sFilename_mesh\n",
    "file2_path = oPyflowline.aBasin[0].sFilename_flowline_conceptual\n",
    "gdf1 = gpd.read_file(file1_path)\n",
    "gdf2 = gpd.read_file(file2_path)\n",
    "fig, ax = plt.subplots()\n",
    "gdf1.plot(ax=ax, color='blue')\n",
    "gdf2.plot(ax=ax, color='red')\n",
    "plt.show()\n",
    "pass"
   ]
  },
  {
   "attachments": {},
   "cell_type": "markdown",
   "id": "33ce7f70",
   "metadata": {},
   "source": [
    "After this, we can save the model output into a json file."
   ]
  },
  {
   "cell_type": "code",
   "execution_count": null,
   "id": "e8efab4e",
   "metadata": {},
   "outputs": [],
   "source": [
    "# Export output to json.\n",
    "oPyflowline.pyflowline_export();"
   ]
  },
  {
   "attachments": {},
   "cell_type": "markdown",
   "id": "5c8c3f75",
   "metadata": {},
   "source": [
    "The content of the one of the exported json files can be checked:"
   ]
  },
  {
   "cell_type": "code",
   "execution_count": null,
   "id": "eb34bcee",
   "metadata": {},
   "outputs": [],
   "source": [
    "with open(oPyflowline.sFilename_mesh_info, 'r') as pJSON:\n",
    "    parsed = json.load(pJSON)\n",
    "    print(json.dumps(parsed[0], indent=4))"
   ]
  },
  {
   "cell_type": "code",
   "execution_count": null,
   "id": "b27d7c95",
   "metadata": {},
   "outputs": [],
   "source": [
    "sFilename_flowline_conceptual_info = os.path.join(str(Path(\n",
    "    oPyflowline.aBasin[0].sWorkspace_output_basin)), \n",
    "    oPyflowline.aBasin[0].sFilename_flowline_conceptual_info)\n",
    "\n",
    "with open(sFilename_flowline_conceptual_info, 'r') as pJSON:\n",
    "    parsed = json.load(pJSON)\n",
    "    print(json.dumps(parsed[0], indent=4))"
   ]
  },
  {
   "attachments": {},
   "cell_type": "markdown",
   "id": "e2f1bea7",
   "metadata": {},
   "source": [
    "Congratulations! You have successfully finished a pyflowline simulation."
   ]
  }
 ],
 "metadata": {
  "kernelspec": {
   "display_name": "hexwatershed",
   "language": "python",
   "name": "python3"
  },
  "language_info": {
   "codemirror_mode": {
    "name": "ipython",
    "version": 3
   },
   "file_extension": ".py",
   "mimetype": "text/x-python",
   "name": "python",
   "nbconvert_exporter": "python",
   "pygments_lexer": "ipython3",
   "version": "3.9.19"
  },
  "vscode": {
   "interpreter": {
    "hash": "79a4c0f6fdb3719d3372bd1edc1cf6b68731a08c9eb5f46b972d9360271030c3"
   }
  }
 },
 "nbformat": 4,
 "nbformat_minor": 5
}
