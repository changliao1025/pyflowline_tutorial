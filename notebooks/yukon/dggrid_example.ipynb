{
 "cells": [
  {
   "cell_type": "markdown",
   "id": "ca25d727",
   "metadata": {},
   "source": [
    "# PyFlowline Tutorial"
   ]
  },
  {
   "attachments": {},
   "cell_type": "markdown",
   "id": "768807d8-ff92-4289-86eb-c9366edceafe",
   "metadata": {},
   "source": [
    "Welcome to the PyFlowline tutorial notebook! 👋\n",
    "\n",
    "This tutorial serves as an example of the PyFlowline application using a DGGRID (Discrete Global Grid) mesh.\n",
    "\n",
    "For additional information on this application and the DGGRID mesh, please refer to the following publication:\n",
    "\n",
    "Liao, C., Engwirda, D., Cooper, M., Li, M., and Fang, Y.: Discrete Global Grid System-based Flow Routing Datasets in the Amazon and Yukon Basins, Earth Syst. Sci. Data Discuss. [preprint], https://doi.org/10.5194/essd-2023-398, in review, 2024.\n",
    "\n",
    "If you are running this notebook directly from the Binder platform, then all the dependencies are already installed. Otherwise, you must install the PyFlowline package and its dependencies (and/or update your existing installation/environment). Additionally, visualization requires optional dependency packages (refer to the full documentation installation section).\n",
    "\n",
    "Feel free to modify the notebook to use a different visualization method as needed. \n",
    "\n",
    "Enjoy exploring PyFlowline!"
   ]
  },
  {
   "cell_type": "markdown",
   "id": "a0b7a2b4",
   "metadata": {},
   "source": [
    "---"
   ]
  },
  {
   "cell_type": "markdown",
   "id": "5a4f5df0",
   "metadata": {},
   "source": [
    "## 1. Preliminaries"
   ]
  },
  {
   "attachments": {},
   "cell_type": "markdown",
   "id": "e047a116",
   "metadata": {},
   "source": [
    "First, let's load some Python libraries."
   ]
  },
  {
   "cell_type": "code",
   "execution_count": null,
   "id": "d101804e",
   "metadata": {},
   "outputs": [],
   "source": [
    "import os\n",
    "import json\n",
    "import shutil\n",
    "from pathlib import Path\n",
    "from os.path import realpath\n",
    "import importlib.util\n",
    "from shutil import copy2\n",
    "from datetime import datetime\n",
    "import geopandas as gpd\n",
    "import matplotlib.pyplot as plt\n",
    "import matplotlib.patches as mpatches"
   ]
  },
  {
   "cell_type": "markdown",
   "id": "bf81807a",
   "metadata": {},
   "source": [
    "### Check the pyflowline installation."
   ]
  },
  {
   "cell_type": "code",
   "execution_count": null,
   "id": "a75e5100",
   "metadata": {},
   "outputs": [],
   "source": [
    "if importlib.util.find_spec(\"pyflowline\") is not None:\n",
    "    print('The pyflowline package is installed. ')\n",
    "else:\n",
    "    print('The pyflowline package is not installed. Please install it first.')\n",
    "    exit()"
   ]
  },
  {
   "cell_type": "markdown",
   "id": "77cba0cf",
   "metadata": {},
   "source": [
    "### Add dggrid into the system path."
   ]
  },
  {
   "cell_type": "code",
   "execution_count": null,
   "id": "c52960d0",
   "metadata": {},
   "outputs": [],
   "source": [
    "# If running locally, replace this with the path to the folder containing the dggrid binary\n",
    "sPath_dggrid_bin = os.pathsep + \"/home/jovyan/\"\n",
    "os.environ[\"PATH\"] += sPath_dggrid_bin"
   ]
  },
  {
   "attachments": {},
   "cell_type": "markdown",
   "id": "025169d4",
   "metadata": {},
   "source": [
    "### Prepare the input/output workspace folders."
   ]
  },
  {
   "cell_type": "code",
   "execution_count": null,
   "id": "25e0e653",
   "metadata": {},
   "outputs": [],
   "source": [
    "sPath_notebook = Path().resolve()\n",
    "sPath_parent = str(sPath_notebook.parents[1])\n",
    "print(f\"Parent path: {sPath_parent}\")\n",
    "\n",
    "sWorkspace_data = os.path.join(sPath_parent, 'data', 'yukon')\n",
    "if not os.path.exists(sWorkspace_data):\n",
    "    print(sWorkspace_data)\n",
    "    os.makedirs(sWorkspace_data)\n",
    "\n",
    "sWorkspace_input = os.path.join(sWorkspace_data, 'input')\n",
    "if not os.path.exists(sWorkspace_input):\n",
    "    print(sWorkspace_input)\n",
    "    os.makedirs(sWorkspace_input)\n",
    "\n",
    "sWorkspace_output = os.path.join(sWorkspace_data, 'output')\n",
    "if not os.path.exists(sWorkspace_output):\n",
    "    print(sWorkspace_output)\n",
    "    os.makedirs(sWorkspace_output)\n",
    "\n",
    "print(f\"Output path: {sWorkspace_output}\")"
   ]
  },
  {
   "cell_type": "markdown",
   "id": "09b50234",
   "metadata": {},
   "source": [
    "### Create a temp folder to download the data requirements."
   ]
  },
  {
   "cell_type": "code",
   "execution_count": null,
   "id": "33f69612",
   "metadata": {},
   "outputs": [],
   "source": [
    "sPath_temp = os.path.join(sPath_parent, 'data', 'tmp')\n",
    "if not os.path.exists(sPath_temp):\n",
    "    print(sPath_temp)\n",
    "    os.makedirs(sPath_temp)\n",
    "else:\n",
    "    shutil.rmtree(sPath_temp)\n",
    "\n",
    "# Specify the repository's URL\n",
    "hexwatershed_data_repo = 'https://github.com/changliao1025/hexwatershed_data.git'\n",
    "\n",
    "# Clone the repository\n",
    "os.system(f'git clone {hexwatershed_data_repo} {sPath_temp}')\n",
    "sPath_temp_data = os.path.join(sPath_parent, 'data', 'tmp', 'data', 'yukon', 'input')\n",
    "\n",
    "# Check if the destination directory exists, if exists, remove it\n",
    "if os.path.exists(sWorkspace_input):\n",
    "    shutil.rmtree(sWorkspace_input)\n",
    "\n",
    "# Copy all the files under the temp data folder using shutil\n",
    "shutil.copytree(sPath_temp_data, sWorkspace_input)\n",
    "\n",
    "shutil.rmtree(sPath_temp_data)"
   ]
  },
  {
   "cell_type": "markdown",
   "id": "0f461a2c",
   "metadata": {},
   "source": [
    "---\n",
    "## 2. Configuration files"
   ]
  },
  {
   "cell_type": "markdown",
   "id": "1a88215a",
   "metadata": {},
   "source": [
    "The pyflowline package uses json configuration files. Example configuration files are provided in the `data/` folder of this repo.\n",
    "\n",
    "To configure a new case, pyflowline provides functions to read the configuration files, and programatically change the configuration parameters (json key values)."
   ]
  },
  {
   "cell_type": "markdown",
   "id": "77f4bd49",
   "metadata": {},
   "source": [
    "### Import the pyflowline package configuration functions."
   ]
  },
  {
   "cell_type": "code",
   "execution_count": null,
   "id": "97291179",
   "metadata": {},
   "outputs": [],
   "source": [
    "# Load functions to read the configuration file and change the json key values.\n",
    "from pyflowline.configuration.read_configuration_file import pyflowline_read_configuration_file\n",
    "from pyflowline.configuration.change_json_key_value import change_json_key_value"
   ]
  },
  {
   "cell_type": "markdown",
   "id": "11f34cdb",
   "metadata": {},
   "source": [
    "### Set the file names for the domain configuration and basin configuration."
   ]
  },
  {
   "cell_type": "code",
   "execution_count": null,
   "id": "56edf54f",
   "metadata": {},
   "outputs": [],
   "source": [
    "sFilename_configuration_in = realpath( os.path.join(sWorkspace_input, 'pyhexwatershed_yukon_dggrid.json') )\n",
    "sFilename_basins_in = realpath( os.path.join(sWorkspace_input, 'pyflowline_yukon_basins.json') )"
   ]
  },
  {
   "cell_type": "markdown",
   "id": "67165d97",
   "metadata": {},
   "source": [
    "### Check whether the domain configuration file exists."
   ]
  },
  {
   "cell_type": "code",
   "execution_count": null,
   "id": "88e70780",
   "metadata": {},
   "outputs": [],
   "source": [
    "if os.path.isfile(sFilename_configuration_in):\n",
    "    pass\n",
    "else:\n",
    "    print(f'The domain configuration file does not exist: {sFilename_configuration_in}')\n",
    "\n",
    "print('Finished the data preparation step.')"
   ]
  },
  {
   "cell_type": "markdown",
   "id": "05c3e903",
   "metadata": {},
   "source": [
    "### Check the contents of the json configuration file."
   ]
  },
  {
   "cell_type": "code",
   "execution_count": null,
   "id": "394d0745",
   "metadata": {},
   "outputs": [],
   "source": [
    "with open(sFilename_configuration_in, 'r') as pJSON:\n",
    "    parsed = json.load(pJSON)\n",
    "    print(json.dumps(parsed, indent=4))"
   ]
  },
  {
   "cell_type": "markdown",
   "id": "85dc3a19",
   "metadata": {},
   "source": [
    "The meaning of these json keywords are explained in the [pyflowline documentation](https://pyflowline.readthedocs.io/en/latest/data/data.html#inputs)."
   ]
  },
  {
   "cell_type": "markdown",
   "id": "40bef559",
   "metadata": {},
   "source": [
    "---\n",
    "## 3. Configure a new case: Yukon River Basin with dggrid mesh.\n",
    "\n",
    "The pyflowline package uses the OOP approach to manage each simulation. A flowline object—a `flowlinecase`—is created by reading the model configuration file (also referred to as the \"domain\" or \"parent\" configuration file). \n",
    "\n",
    "The first step to setting up a new `flowlinecase` is to configure the pyflowline simulation. This can be done by directly editing the json configuration files, or programmatically. Below we demonstrate several ways to achieve this programmatically."
   ]
  },
  {
   "cell_type": "markdown",
   "id": "6f64ca71",
   "metadata": {},
   "source": [
    "### Create copies of the configuration files.\n",
    "\n",
    " For this example, instead of editing the template configuration files directly (which overwrites them) we will make copies and edit them."
   ]
  },
  {
   "cell_type": "code",
   "execution_count": null,
   "id": "2c96559f",
   "metadata": {},
   "outputs": [],
   "source": [
    "# Copy the configuration file to the output directory.\n",
    "sFilename_configuration_copy = os.path.join(sWorkspace_output, 'pyflowline_configuration_copy.json')\n",
    "copy2(sFilename_configuration_in, sFilename_configuration_copy)\n",
    "\n",
    "# Also copy the basin configuration file to the output directory.\n",
    "sFilename_basins_configuration_copy = os.path.join(sWorkspace_output, 'pyflowline_configuration_basins_copy.json')\n",
    "copy2(sFilename_basins_in, sFilename_basins_configuration_copy)"
   ]
  },
  {
   "cell_type": "markdown",
   "id": "1a6265f6",
   "metadata": {},
   "source": [
    "### Change configuration file parameters.\n",
    "\n",
    "Now we will update a few parameters in the configuration files. It is often convenient (and/or required) to first set file paths either directly in a text editor, or with the `change_json_key_value` function—which directly modifies the json files—and then later update the parameters for a specific case programmatically using keyword arguments, as demonstrated in the next section. Here, we set the file paths using the `change_json_key_value` function.\n",
    "\n",
    "Since the json file will be overwritten, you may want to make a copy of it first. Here we use the copies we created above."
   ]
  },
  {
   "cell_type": "code",
   "execution_count": null,
   "id": "f3e6d8f2",
   "metadata": {},
   "outputs": [],
   "source": [
    "sFilename_configuration = sFilename_configuration_copy\n",
    "sFilename_basins = sFilename_basins_configuration_copy"
   ]
  },
  {
   "cell_type": "markdown",
   "id": "0e69e9d7",
   "metadata": {},
   "source": [
    "#### Set the output folder parameter."
   ]
  },
  {
   "cell_type": "code",
   "execution_count": null,
   "id": "0ea6dd27",
   "metadata": {},
   "outputs": [],
   "source": [
    "change_json_key_value(sFilename_configuration, 'sWorkspace_output', sWorkspace_output)"
   ]
  },
  {
   "cell_type": "markdown",
   "id": "58457806",
   "metadata": {},
   "source": [
    "#### Set the basin configuration file name parameter."
   ]
  },
  {
   "cell_type": "code",
   "execution_count": null,
   "id": "e097abf4",
   "metadata": {},
   "outputs": [],
   "source": [
    "change_json_key_value(sFilename_configuration, 'sFilename_basins', sFilename_basins)"
   ]
  },
  {
   "cell_type": "markdown",
   "id": "11f04d27",
   "metadata": {},
   "source": [
    "#### Set the mesh boundary file name (used to define the domain extent and clip the mesh)."
   ]
  },
  {
   "cell_type": "code",
   "execution_count": null,
   "id": "c72c4aff",
   "metadata": {},
   "outputs": [],
   "source": [
    "sFilename_mesh_boundary = realpath(os.path.join(sWorkspace_input, 'boundary.geojson'))\n",
    "change_json_key_value(sFilename_configuration, 'sFilename_mesh_boundary', sFilename_mesh_boundary)"
   ]
  },
  {
   "cell_type": "markdown",
   "id": "4ac0d898",
   "metadata": {},
   "source": [
    "**Note**: In Section 6 (see \"Step 2: Create the mesh\"), we set a flag which tells the pyflowline software to use this mesh boundary file for the domain instead of the (optional) DEM file, which isn't used in this example."
   ]
  },
  {
   "cell_type": "markdown",
   "id": "69d7ee4f",
   "metadata": {},
   "source": [
    "#### Set the dggrid binary path.\n",
    "\n",
    "The dggrid binary path was added to the Binder environment path at the beginning of this notebook. \n",
    "\n",
    "To run in your local environment, either edit the path or use the example below to directly set the full path to the dggrid binary file using the parameter in the configuration file. Note that the iFlag_user_provided_binary flag must also be set if the example below is used."
   ]
  },
  {
   "cell_type": "code",
   "execution_count": null,
   "id": "137eb9d5",
   "metadata": {},
   "outputs": [],
   "source": [
    "# This is intentionally commented out to demonstrate how to set the dggrid binary path if running this notebook in your local environment.\n",
    "\n",
    "# sFilename_dggrid = \"\" # set the full path to the dggrid binary file (note: filename, not parent folder) in your local environment\n",
    "# change_json_key_value(sFilename_configuration, 'sFilename_dggrid', sFilename_dggrid)\n",
    "# change_json_key_value(sFilename_configuration, 'iFlag_user_provided_binary', 1)"
   ]
  },
  {
   "cell_type": "markdown",
   "id": "66f877b9",
   "metadata": {},
   "source": [
    "To adapt this example to your workflow, feel free to open the configuration files and directly edit the parameter value pairs, especially workspace paths, for your local setup. Depending on the type of simulation, some of the paths are ignored. Some trial and error may be required, but if you encounter errors, refer to the [pyflowline documentation](https://pyflowline.readthedocs.io) and to the [pyflowline examples](https://github.com/changliao1025/pyflowline/tree/main/examples) in the pyflowline repo."
   ]
  },
  {
   "cell_type": "markdown",
   "id": "e5a53be0",
   "metadata": {},
   "source": [
    "---\n",
    "## 4. Create a PyFlowline object"
   ]
  },
  {
   "attachments": {},
   "cell_type": "markdown",
   "id": "98968ee9",
   "metadata": {},
   "source": [
    "In the prior section, we used the `change_json_key_value` function to programmatically modify parameters (mainly file paths) in the pyflowline configuration files before setting up a new pyflowline simulation. \n",
    "\n",
    "Here, we use the `pyflowline_read_configuration_file` function to create a new `flowlinecase` by **reading the domain configuration file**. The function also accepts name-value arguments to set parameter values on the fly."
   ]
  },
  {
   "cell_type": "markdown",
   "id": "77bae117",
   "metadata": {},
   "source": [
    "### Set keywords to define the case."
   ]
  },
  {
   "cell_type": "code",
   "execution_count": null,
   "id": "52820d49",
   "metadata": {},
   "outputs": [],
   "source": [
    "sRegion = 'yukon'\n",
    "sMesh_type = 'dggrid'\n",
    "sDggrid_type = 'ISEA3H'\n",
    "iCase_index = 1 # an arbitrary index used to track simulations\n",
    "iResolution_index = 10 # dggrid resolution index\n",
    "sDate = datetime.now().strftime('%Y%m%d') # today's date\n",
    "print(\"Today's date:\", sDate)"
   ]
  },
  {
   "cell_type": "markdown",
   "id": "f590b8b4",
   "metadata": {},
   "source": [
    "### Get the dggrid mesh resolution."
   ]
  },
  {
   "cell_type": "code",
   "execution_count": null,
   "id": "69f442ec",
   "metadata": {},
   "outputs": [],
   "source": [
    "from pyflowline.mesh.dggrid.create_dggrid_mesh import dggrid_find_resolution_by_index\n",
    "dResolution = dggrid_find_resolution_by_index(sDggrid_type, iResolution_index)\n",
    "print(f\"DGGRID spatial resolution: {dResolution} m\")"
   ]
  },
  {
   "cell_type": "markdown",
   "id": "fc14e679",
   "metadata": {},
   "source": [
    "### Create a new `flowlinecase`."
   ]
  },
  {
   "cell_type": "markdown",
   "id": "ba96f2dd",
   "metadata": {},
   "source": [
    "The first argument to the function is the configuration file name, followed by name-value keywords that correspond to parameters in the json configuration files. "
   ]
  },
  {
   "cell_type": "code",
   "execution_count": null,
   "id": "2a221825",
   "metadata": {},
   "outputs": [],
   "source": [
    "oPyflowline = pyflowline_read_configuration_file(sFilename_configuration, iCase_index_in=iCase_index, sMesh_type_in=sMesh_type, iResolution_index_in=iResolution_index, sDate_in=sDate)"
   ]
  },
  {
   "cell_type": "markdown",
   "id": "8861ee97",
   "metadata": {},
   "source": [
    "**Note**: The warning message above will be addressed in the next section."
   ]
  },
  {
   "cell_type": "markdown",
   "id": "999e3779",
   "metadata": {},
   "source": [
    "---\n",
    "## 5. Change model parameters"
   ]
  },
  {
   "attachments": {},
   "cell_type": "markdown",
   "id": "439971cd",
   "metadata": {},
   "source": [
    "Model parameters can be updated after creating the model object. In this section, we'll set the basin outlet location, and the path to the input flowline. Note that these parameters are for the *basin configuration*, rather than the *domain* configuration, which we were updating in the prior section.\n",
    "\n",
    "Review the case settings before proceeding."
   ]
  },
  {
   "cell_type": "code",
   "execution_count": null,
   "id": "4e96d31d",
   "metadata": {},
   "outputs": [],
   "source": [
    "print(oPyflowline.tojson())"
   ]
  },
  {
   "cell_type": "markdown",
   "id": "da973cf4",
   "metadata": {},
   "source": [
    "### Set the basin outlet location coordinates"
   ]
  },
  {
   "attachments": {},
   "cell_type": "markdown",
   "id": "e1239843",
   "metadata": {},
   "source": [
    "The approximate basin outlet location is an important parameter, used by `pyflowline` as a starting point for its upstream walk. Note that this parameter is set in the basin configuration file (also referred to as the \"child\" configuration file).\n",
    "\n",
    "In a typical workflow, we suggest to plot your flowline in software such as QGIS, visually identify the outlet coordinates, and either type them directly into the basin configuration file, or update them programmatically as shown below.\n",
    "\n",
    "Use the `pyflowline_change_model_parameter` function to set the outlet coordinates. Note that, when updating the *basin* configuration file, set `iFlag_basin_in=1`."
   ]
  },
  {
   "cell_type": "code",
   "execution_count": null,
   "id": "8c4e6526",
   "metadata": {},
   "outputs": [],
   "source": [
    "# Set the basin outlet coordinates\n",
    "dLongitude_outlet_degree = -164.47594\n",
    "dLatitude_outlet_degree = 63.04269\n",
    "\n",
    "oPyflowline.pyflowline_change_model_parameter('dLongitude_outlet_degree', dLongitude_outlet_degree, iFlag_basin_in=1)\n",
    "\n",
    "oPyflowline.pyflowline_change_model_parameter('dLatitude_outlet_degree', dLatitude_outlet_degree, iFlag_basin_in=1) # set iFlag_basin_in=1 for basin configuration"
   ]
  },
  {
   "cell_type": "markdown",
   "id": "7c7e59b1",
   "metadata": {},
   "source": [
    "### Set the input flowline filename\n",
    "(This is the missing file `flowlinecase` warned about in the prior section)"
   ]
  },
  {
   "cell_type": "code",
   "execution_count": null,
   "id": "8f218b03",
   "metadata": {},
   "outputs": [],
   "source": [
    "sFilename_flowline = realpath(os.path.join(sWorkspace_input, 'dggrid10/river_networks.geojson') )\n",
    "oPyflowline.pyflowline_change_model_parameter('sFilename_flowline_filter', sFilename_flowline, iFlag_basin_in=1)"
   ]
  },
  {
   "cell_type": "markdown",
   "id": "79e69d7e",
   "metadata": {},
   "source": [
    "### Turn debugging off"
   ]
  },
  {
   "cell_type": "code",
   "execution_count": null,
   "id": "c9dd23de",
   "metadata": {},
   "outputs": [],
   "source": [
    "oPyflowline.pyflowline_change_model_parameter('iFlag_debug', 0, iFlag_basin_in=1)"
   ]
  },
  {
   "cell_type": "markdown",
   "id": "61f5b8ed",
   "metadata": {},
   "source": [
    "### Setting parameters for individual basins\n",
    "\n",
    "In this example, the domain is comprised of a single basin, but when there are multiple basins, their parameters can be viewed and set by indexing into them using the following syntax."
   ]
  },
  {
   "cell_type": "code",
   "execution_count": null,
   "id": "edd17e3e",
   "metadata": {},
   "outputs": [],
   "source": [
    "# Check the setting for a single basin\n",
    "print(oPyflowline.aBasin[0].tojson())\n",
    "\n",
    "# Set the flowline river length threshold\n",
    "oPyflowline.aBasin[0].dThreshold_small_river = dResolution * 5"
   ]
  },
  {
   "attachments": {},
   "cell_type": "markdown",
   "id": "c432a723",
   "metadata": {},
   "source": [
    "---\n",
    "## 6. Run a PyFlowline simulation\n",
    "\n",
    "After the case object is created, we can set up the model and run each step of the pyflowline algorithm, visualizing the results as we go."
   ]
  },
  {
   "cell_type": "markdown",
   "id": "894ac67f",
   "metadata": {},
   "source": [
    "### Setup the model"
   ]
  },
  {
   "cell_type": "code",
   "execution_count": null,
   "id": "8d74fbfc",
   "metadata": {},
   "outputs": [],
   "source": [
    "oPyflowline.iFlag_user_provided_binary = 0 # set = 1 if setting the path to the binary\n",
    "oPyflowline.pyflowline_setup()"
   ]
  },
  {
   "attachments": {},
   "cell_type": "markdown",
   "id": "39507b33",
   "metadata": {},
   "source": [
    "Before running any operations, we can visualize the original or raw flowline dataset. "
   ]
  },
  {
   "cell_type": "code",
   "execution_count": null,
   "id": "05c38d7f",
   "metadata": {},
   "outputs": [],
   "source": [
    "sFilename_geojson = oPyflowline.aBasin[0].sFilename_flowline_filter_geojson\n",
    "gdf = gpd.read_file(sFilename_geojson)\n",
    "gdf.plot()\n",
    "plt.show()"
   ]
  },
  {
   "cell_type": "markdown",
   "id": "bb2348b9",
   "metadata": {},
   "source": [
    "PyFlowline provides built-in visualiation through PyEarth (this feature is experimental). "
   ]
  },
  {
   "cell_type": "code",
   "execution_count": null,
   "id": "c580ed8a",
   "metadata": {},
   "outputs": [],
   "source": [
    "oPyflowline.plot( sVariable_in = 'flowline_filter' )"
   ]
  },
  {
   "attachments": {},
   "cell_type": "markdown",
   "id": "8d3b8d00",
   "metadata": {},
   "source": [
    "You can also use QGIS."
   ]
  },
  {
   "attachments": {},
   "cell_type": "markdown",
   "id": "09017d73",
   "metadata": {},
   "source": [
    "The plot function provides a few optional arguments such as map projection and spatial extent. \n",
    "By default, the spatial extent is full. \n",
    "But you can set the extent to a zoom-in region."
   ]
  },
  {
   "attachments": {},
   "cell_type": "markdown",
   "id": "e735b614",
   "metadata": {},
   "source": [
    "Now let's run the three major steps/operations in the pyflowline algorithm one by one."
   ]
  },
  {
   "cell_type": "markdown",
   "id": "c76723a5",
   "metadata": {},
   "source": [
    "### Step 1: Flowline simplification"
   ]
  },
  {
   "cell_type": "code",
   "execution_count": null,
   "id": "689984cb",
   "metadata": {},
   "outputs": [],
   "source": [
    "oPyflowline.pyflowline_flowline_simplification();"
   ]
  },
  {
   "cell_type": "code",
   "execution_count": null,
   "id": "27b917b6",
   "metadata": {},
   "outputs": [],
   "source": [
    "# Visualize the result using a built-in visualization method.\n",
    "oPyflowline.plot( sVariable_in = 'flowline_simplified' )"
   ]
  },
  {
   "cell_type": "code",
   "execution_count": null,
   "id": "d77190a1",
   "metadata": {},
   "outputs": [],
   "source": [
    "# Check the result using a custom plot.\n",
    "sFilename_geojson = oPyflowline.aBasin[0].sFilename_flowline_simplified\n",
    "gdf = gpd.read_file(sFilename_geojson)\n",
    "gdf.plot()\n",
    "plt.show()"
   ]
  },
  {
   "cell_type": "markdown",
   "id": "daceec73",
   "metadata": {},
   "source": [
    "### Step 2: Create the mesh"
   ]
  },
  {
   "cell_type": "code",
   "execution_count": null,
   "id": "e898bc82",
   "metadata": {},
   "outputs": [],
   "source": [
    "# Set the flag to use the provided sFilename_mesh_boundary file\n",
    "oPyflowline.iFlag_mesh_boundary = 1\n",
    "aCell = oPyflowline.pyflowline_mesh_generation()"
   ]
  },
  {
   "cell_type": "code",
   "execution_count": null,
   "id": "4e67f17a",
   "metadata": {},
   "outputs": [],
   "source": [
    "# Visualize the mesh boundary we provided earlier.\n",
    "sFilename_geojson = oPyflowline.sFilename_mesh_boundary\n",
    "gdf = gpd.read_file(sFilename_geojson)\n",
    "gdf.plot()\n",
    "plt.show()"
   ]
  },
  {
   "cell_type": "code",
   "execution_count": null,
   "id": "20d90d3b",
   "metadata": {},
   "outputs": [],
   "source": [
    "# Visualize the generated mesh using a custom plot.\n",
    "sFilename_geojson = oPyflowline.sFilename_mesh\n",
    "gdf = gpd.read_file(sFilename_geojson)\n",
    "gdf.plot()\n",
    "plt.show()"
   ]
  },
  {
   "cell_type": "code",
   "execution_count": null,
   "id": "bc50bf31",
   "metadata": {},
   "outputs": [],
   "source": [
    "# Visualize the generated mesh using a built-in visualization method.\n",
    "oPyflowline.plot( sVariable_in = 'mesh')"
   ]
  },
  {
   "cell_type": "markdown",
   "id": "8c16d92b",
   "metadata": {},
   "source": [
    "### Step 3: Create the conceptual flowline"
   ]
  },
  {
   "attachments": {},
   "cell_type": "markdown",
   "id": "9d8c3d26",
   "metadata": {},
   "source": [
    "Last, we can generate the conceptual flowline. We refer to the final flowline as \"conceptual\" because it has been modified relative to the input flowline, which often represents a \"real\" flowline. The conceptual flowline has been simplified (e.g., small reaches, loops, and braided channels removed) and adjusted to align with the mesh. These modifications ensure the final flowline is suitable for hydrological modeling, while remaining consistent with the real flowline."
   ]
  },
  {
   "cell_type": "code",
   "execution_count": null,
   "id": "5f7c76d8",
   "metadata": {},
   "outputs": [],
   "source": [
    "oPyflowline.pyflowline_reconstruct_topological_relationship();"
   ]
  },
  {
   "cell_type": "markdown",
   "id": "35e41edb",
   "metadata": {},
   "source": [
    "Visualize the conceptual flowline using a built-in method."
   ]
  },
  {
   "cell_type": "code",
   "execution_count": null,
   "id": "82467ee7",
   "metadata": {},
   "outputs": [],
   "source": [
    "oPyflowline.plot( sVariable_in = 'flowline_conceptual')"
   ]
  },
  {
   "cell_type": "markdown",
   "id": "d3072c75",
   "metadata": {},
   "source": [
    "Visualize the result by overlapping the mesh with the flowline using a custom plot."
   ]
  },
  {
   "cell_type": "code",
   "execution_count": null,
   "id": "61d6df7b",
   "metadata": {},
   "outputs": [],
   "source": [
    "# Read the datasets into memory\n",
    "sFilename_mesh = oPyflowline.sFilename_mesh\n",
    "sFilename_input_flowline = oPyflowline.aBasin[0].sFilename_flowline_filter\n",
    "sFilename_conceptual_flowline = oPyflowline.aBasin[0].sFilename_flowline_conceptual\n",
    "gdf1 = gpd.read_file(sFilename_mesh)\n",
    "gdf2 = gpd.read_file(sFilename_input_flowline)\n",
    "gdf3 = gpd.read_file(sFilename_conceptual_flowline)"
   ]
  },
  {
   "cell_type": "code",
   "execution_count": null,
   "id": "92003dd1",
   "metadata": {},
   "outputs": [],
   "source": [
    "# Plot the input flowline, and the final conceptual flowline\n",
    "fig, ax = plt.subplots()\n",
    "gdf1.plot(ax=ax, facecolor='lightgrey', edgecolor='black', alpha=0.3, label='Mesh')\n",
    "gdf2.plot(ax=ax, color='deepskyblue', linewidth=3, label='Input Flowline')\n",
    "gdf3.plot(ax=ax, color='darkred', linewidth=1, label='Conceptual Flowline')\n",
    "\n",
    "# handles for the legend\n",
    "mesh_patch = mpatches.Patch(facecolor='lightgrey', label='Mesh', edgecolor='black', alpha=0.3)\n",
    "input_line = plt.Line2D([0], [0], color='deepskyblue', label='Input Flowline')\n",
    "conceptual_line = plt.Line2D([0], [0], color='darkred', label='Conceptual Flowline')\n",
    "\n",
    "ax.legend(handles=[mesh_patch, input_line, conceptual_line], loc='lower left')\n",
    "ax.set_title('Comparison of Input and Conceptual Flowlines')\n",
    "ax.set_xlabel(\"Longitude\")\n",
    "ax.set_ylabel(\"Latitude\")\n",
    "ax.set_xticks([])\n",
    "ax.set_yticks([])\n",
    "plt.show()"
   ]
  },
  {
   "cell_type": "markdown",
   "id": "86091724",
   "metadata": {},
   "source": [
    "Overlap built-in visualization is also supported."
   ]
  },
  {
   "cell_type": "code",
   "execution_count": null,
   "id": "d7169aef",
   "metadata": {},
   "outputs": [],
   "source": [
    "oPyflowline.plot( sVariable_in = 'overlap')"
   ]
  },
  {
   "attachments": {},
   "cell_type": "markdown",
   "id": "33ce7f70",
   "metadata": {},
   "source": [
    "### Save the model output into a json file"
   ]
  },
  {
   "cell_type": "code",
   "execution_count": null,
   "id": "e8efab4e",
   "metadata": {},
   "outputs": [],
   "source": [
    "# Export output\n",
    "oPyflowline.pyflowline_export();"
   ]
  },
  {
   "attachments": {},
   "cell_type": "markdown",
   "id": "5c8c3f75",
   "metadata": {},
   "source": [
    "The content of the one of the exported json files can be checked:"
   ]
  },
  {
   "cell_type": "code",
   "execution_count": null,
   "id": "eb34bcee",
   "metadata": {},
   "outputs": [],
   "source": [
    "with open(oPyflowline.sFilename_mesh_info, 'r') as pJSON:\n",
    "    parsed = json.load(pJSON)\n",
    "    print(json.dumps(parsed[0], indent=4))"
   ]
  },
  {
   "attachments": {},
   "cell_type": "markdown",
   "id": "e2f1bea7",
   "metadata": {},
   "source": [
    "### Congratulations! You have successfully finished a pyflowline simulation. 🎉"
   ]
  }
 ],
 "metadata": {
  "kernelspec": {
   "display_name": "hexwatershed",
   "language": "python",
   "name": "python3"
  },
  "language_info": {
   "codemirror_mode": {
    "name": "ipython",
    "version": 3
   },
   "file_extension": ".py",
   "mimetype": "text/x-python",
   "name": "python",
   "nbconvert_exporter": "python",
   "pygments_lexer": "ipython3",
   "version": "3.12.3"
  },
  "vscode": {
   "interpreter": {
    "hash": "79a4c0f6fdb3719d3372bd1edc1cf6b68731a08c9eb5f46b972d9360271030c3"
   }
  }
 },
 "nbformat": 4,
 "nbformat_minor": 5
}
